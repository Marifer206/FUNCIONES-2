{
 "cells": [
  {
   "attachments": {},
   "cell_type": "markdown",
   "metadata": {},
   "source": [
    "EJERCICIO # 1"
   ]
  },
  {
   "cell_type": "code",
   "execution_count": 23,
   "metadata": {},
   "outputs": [
    {
     "name": "stdout",
     "output_type": "stream",
     "text": [
      "El máximo común divisor de 10 y 20 es: 10\n"
     ]
    }
   ],
   "source": [
    "if __name__ == '__main__':  # Funcion main \n",
    "    # Pedimos la usuario que ingrese los numeros de los cuales quiera saber su MCD\n",
    "    num1 = int(input(\"Ingrese el primer número entero: \")) \n",
    "    num2 = int(input(\"Ingrese el segundo número entero: \"))\n",
    "    # Definimos la funcion lambda para calcular el MCD\n",
    "    resultado = lambda a, b: a if b == 0 else resultado(b, a % b) # Si b = 0, devuelve el valor de a. Si b no es 0, se realiza una llamada recursiva a la misma función lambda con los argumentos intercambiados: resultado(b, a % b). En esta llamada recursiva, a se asigna con el valor actual de b, y b se asigna con el resultado de a % b, que es el residuo de la división de a entre b.\n",
    "    # Se llama a la funcion tomando como argumnetos num1 y num 2\n",
    "    mcd = resultado(num1, num2)\n",
    "    # Se imprime el resultado\n",
    "    print(\"El máximo común divisor de \" + str(num1) + \" y \" + str(num2) + \" es: \" + str(mcd))"
   ]
  },
  {
   "attachments": {},
   "cell_type": "markdown",
   "metadata": {},
   "source": [
    "EJERCICIO # 2"
   ]
  },
  {
   "cell_type": "code",
   "execution_count": 25,
   "metadata": {},
   "outputs": [
    {
     "name": "stdout",
     "output_type": "stream",
     "text": [
      "La funcion para cuando x vale 10 y vale 8.66224835960518\n"
     ]
    }
   ],
   "source": [
    "if __name__ == \"__main__\": # Funcion main \n",
    "  a = int(input(\"Ingrese valor de X: \")) # Se declara a y se inicializa con el valor de x solicitado al usuario\n",
    "  # Definimos la funcion lambda para calcular y cuando x vale a\n",
    "  suma = (lambda x : x / (x**(1/3)-1))(a) # Se realiza la operacion remplazando X con el valor anteriormente dado\n",
    "  # Se imprime el valor de Y \n",
    "  print(\"La funcion para cuando X vale \" + str(a) + \", Y vale \" + str(suma)) "
   ]
  },
  {
   "attachments": {},
   "cell_type": "markdown",
   "metadata": {},
   "source": [
    "EJERCICIO # 3"
   ]
  },
  {
   "cell_type": "code",
   "execution_count": 37,
   "metadata": {},
   "outputs": [
    {
     "name": "stdout",
     "output_type": "stream",
     "text": [
      "El número mayor es: 35465.685\n",
      "El número menor es: 2165.1654\n"
     ]
    }
   ],
   "source": [
    "# Definimos la funcion y que tome como argumentos a, b y es_mayor para que por defecto tome al numero como mayor \n",
    "def mayor_menor(a,b, es_menor=False):\n",
    "    if es_menor:\n",
    "        return min(a,b) # Retorna el menor\n",
    "    elif a == b: # si no es mayor  menor alguno son iguales\n",
    "        print(\"los numeros \" + str(a) + \" y \" + str(b) + \" son iguales\")\n",
    "    else:\n",
    "        return min(a,b) # Retorna el menor\n",
    "\n",
    "if __name__ == \"__main__\": # Funcion main \n",
    "        # Pedimos la usuario que ingrese los numeros\n",
    "    a = float(input(\"Ingrese el número a: \"))\n",
    "    b = float(input(\"Ingrese el número b: \"))\n",
    "    \n",
    "    # Obtener el número mayor por defecto\n",
    "    mayor = mayor_menor(a, b,)\n",
    "    print(\"El número mayor es:\" + str(mayor))\n",
    "    \n",
    "    # Obtener el número menor\n",
    "    menor = mayor_menor(a, b, es_menor=True)\n",
    "    print(\"El número menor es:\", menor)"
   ]
  },
  {
   "cell_type": "code",
   "execution_count": 39,
   "metadata": {},
   "outputs": [
    {
     "name": "stdout",
     "output_type": "stream",
     "text": [
      "El número mayor es:55.0\n",
      "El número menor es: 55.0\n"
     ]
    }
   ],
   "source": [
    "# Definimos la funcion y que tome como argumentos a, b y es_mayor para que por defecto tome al numero como mayor \n",
    "def mayor_menor(a,b, es_menor=False):\n",
    "    if es_menor:\n",
    "        return min(a,b) # Retorna el menor\n",
    "    else:\n",
    "        return min(a,b) # Retorna el menor\n",
    "\n",
    "if __name__ == \"__main__\": # Funcion main \n",
    "        # Pedimos la usuario que ingrese los numeros\n",
    "    a = float(input(\"Ingrese el número a: \"))\n",
    "    b = float(input(\"Ingrese el número b: \"))\n",
    "    \n",
    "    # Obtener el número mayor por defecto\n",
    "    mayor = mayor_menor(a, b)\n",
    "    print(\"El número mayor es: \" + str(mayor))\n",
    "    \n",
    "    # Obtener el número menor\n",
    "    menor = mayor_menor(a, b, es_menor=True)\n",
    "    print(\"El número menor es:\", menor)"
   ]
  },
  {
   "attachments": {},
   "cell_type": "markdown",
   "metadata": {},
   "source": [
    "PUNTO # 1.1"
   ]
  },
  {
   "cell_type": "code",
   "execution_count": 1,
   "metadata": {},
   "outputs": [
    {
     "name": "stdout",
     "output_type": "stream",
     "text": [
      "La cantidad de carne de aves es: 79 kilos.\n"
     ]
    }
   ],
   "source": [
    "if __name__ == '__main__':\n",
    "    # Pedimos al usuario las cantidades de aves\n",
    "    n_gallinas = int(input(\"Ingrese la cantidad de gallinas: \"))\n",
    "    m_gallos = int(input(\"Ingrese la cantidad de gallos: \"))\n",
    "    k_pollitos = int(input(\"Ingrese la cantidad de pollitos: \"))\n",
    "    calcular_cantidad_carne_aves = lambda n_gallinas, m_gallos, k_pollitos: (n_gallinas * 6) + (m_gallos * 7) + (k_pollitos * 1)\n",
    "    # Calculamos la cantidad de carne de aves\n",
    "    cantidad_carne = calcular_cantidad_carne_aves(n_gallinas, m_gallos, k_pollitos)\n",
    "\n",
    "    # Imprimimos el resultado\n",
    "    print(\"La cantidad de carne de aves es:\", cantidad_carne, \"kilos.\")\n"
   ]
  },
  {
   "attachments": {},
   "cell_type": "markdown",
   "metadata": {},
   "source": [
    "PUNTO # 1.2"
   ]
  },
  {
   "cell_type": "code",
   "execution_count": 3,
   "metadata": {},
   "outputs": [
    {
     "name": "stdout",
     "output_type": "stream",
     "text": [
      "Tus vueltas son:16700.0\n"
     ]
    }
   ],
   "source": [
    "if __name__ == \"__main__\":\n",
    "    # Preguntar al usuario cuantas unidades de cada producto quiere\n",
    "    panes = float(input(\"Ingrese la cantidad de Panes? \")) \n",
    "    bolsas_leche = float(input(\"Ingrese la cantidad de Bolsas de leche? \"))\n",
    "    huevitos = float(input(\"Ingrese la cantidad de Huevos ? \"))\n",
    "    # Preguntar al usuario cual es el monto que va a pagar \n",
    "    saldo = float(input(\"Monto con el cual va a pagar: \"))\n",
    "    # Definir la funcion lambda para calcular \n",
    "    suma = lambda panes,bolsas_leche,huevitos,saldo: (saldo-((panes*300)+(bolsas_leche*3300)+(huevitos*350)))\n",
    "    # Definir los argumentos que toma la funcion lambda\n",
    "    vueltas = suma(panes,bolsas_leche,huevitos,saldo)\n",
    "# Se imprime el resultado dependiento si hay o no vueltas o si queda una deuda\n",
    "if vueltas < 0:\n",
    "    print(\"Lo siento, debes pagar un adicional de:\" + str(abs(vueltas)))\n",
    "elif vueltas == 0:\n",
    "    print(\"No hay vueltas.\")\n",
    "else:\n",
    "    print(\"Tus vueltas son:\" + str(vueltas))"
   ]
  },
  {
   "attachments": {},
   "cell_type": "markdown",
   "metadata": {},
   "source": [
    "PUNTO # 1.3"
   ]
  },
  {
   "cell_type": "code",
   "execution_count": 16,
   "metadata": {},
   "outputs": [
    {
     "name": "stdout",
     "output_type": "stream",
     "text": [
      "El valor final del préstamo es: 2048000000.0\n"
     ]
    }
   ],
   "source": [
    "if __name__ == \"__main__\":\n",
    "    # Se piden los valores al usuario\n",
    "    prestamo_inicial = float(input(\"Prestamo inicial: \"))\n",
    "    tasa_interes = float(input(\"Tasa de interes: \"))\n",
    "    tiempo = float(input(\"Tiempo en meses: \"))\n",
    "    # Se define la funcion lambda\n",
    "    valor_final = lambda prestamo_inicial, tasa_interes, tiempo: prestamo_inicial * ((1 + tasa_interes / 12) ** tiempo)\n",
    "    # Se llama a la funcion y se le pasan los argumentos\n",
    "    valor_prestamo = valor_final(prestamo_inicial, tasa_interes, tiempo)\n",
    "    # Se imprime el resultado\n",
    "    print(\"El valor final del préstamo es: \" + str(valor_prestamo))\n"
   ]
  },
  {
   "attachments": {},
   "cell_type": "markdown",
   "metadata": {},
   "source": [
    "PUNTO # 2.1"
   ]
  },
  {
   "cell_type": "code",
   "execution_count": 4,
   "metadata": {},
   "outputs": [
    {
     "name": "stdout",
     "output_type": "stream",
     "text": [
      "El valor a pagar es de: 56000.0\n"
     ]
    }
   ],
   "source": [
    "# Definimos la función calcular_valor_prestamo con argumentos no definidos\n",
    "def calcular_valor_prestamo(*args) -> float:\n",
    "    prestamo = args[0]\n",
    "    tasa_interes = args[1]\n",
    "    meses = args[2]\n",
    "    interes = tasa_interes * prestamo / 100\n",
    "    return prestamo + meses * interes\n",
    "\n",
    "if __name__ == '__main__':\n",
    "    # Se piden los valores al usuario\n",
    "    p = float(input(\"Ingrese el valor del préstamo en pesos: \"))\n",
    "    t_i = float(input(\"Ingrese la tasa de interés en porcentaje: \"))\n",
    "    m = int(input(\"Ingrese el número de meses para el préstamo: \"))\n",
    "    # Se llama a la funcion y toma los argumentos anteriormente dados por el usuario\n",
    "    valor_prestamo = calcular_valor_prestamo(p, t_i, m)\n",
    "    \n",
    "    # Mostramos o imprimimos los resultados\n",
    "    print(\"El valor a pagar es de: \" + str(valor_prestamo))\n"
   ]
  },
  {
   "attachments": {},
   "cell_type": "markdown",
   "metadata": {},
   "source": [
    "PUNTO # 2.2"
   ]
  },
  {
   "cell_type": "code",
   "execution_count": 7,
   "metadata": {},
   "outputs": [
    {
     "name": "stdout",
     "output_type": "stream",
     "text": [
      "El volumen de la figura es: 654.4984694978735 cm^3\n",
      "El área de la figura es: 462.94722900913143 cm^2\n"
     ]
    }
   ],
   "source": [
    "import math\n",
    "\n",
    "# Definimos la función calcular_volumen con argumentos no definidos\n",
    "def calcular_volumen(*args):\n",
    "    radio_esfera = args[0]\n",
    "    radio_cono = args[1]\n",
    "    altura_cono = args[2]\n",
    "\n",
    "    volumen_esfera = (4/3) * (radio_esfera**3) * math.pi\n",
    "    volumen_cono = (altura_cono/3) * (radio_cono**2) * math.pi\n",
    "    return volumen_esfera + volumen_cono    \n",
    "\n",
    "# Definimos la función calcular_area con argumentos no definidos\n",
    "def calcular_area(*args):\n",
    "    radio_esfera = args[0]\n",
    "    radio_cono = args[1]\n",
    "    altura_cono = args[2]\n",
    "    area_esfera = 4 * math.pi * radio_esfera**2\n",
    "    altura_oblicua = math.sqrt(altura_cono*2 + radio_cono*2)\n",
    "    area_cono = (math.pi * radio_cono * altura_oblicua) + (math.pi * radio_cono**2)\n",
    "    return area_esfera + area_cono\n",
    "\n",
    "if __name__ == '__main__':\n",
    "    # Se piden los valores al usuario\n",
    "    rad_e = float(input(\"Ingrese el radio de la esfera en cm: \"))\n",
    "    rad_c = float(input(\"Ingrese el radio del cono en cm: \"))\n",
    "    alt_c = float(input(\"Ingrese la altura del cono en cm: \"))\n",
    "    # Se llama a las funciones y toman los argumentos anteriormente dados por el usuario\n",
    "    vol = calcular_volumen(rad_e, rad_c, alt_c)\n",
    "    area = calcular_area(rad_e, rad_c, alt_c)\n",
    "    \n",
    "    # Mostramos los resultados\n",
    "    print(\"El volumen de la figura es: \" + str(vol) + \" cm^3\")\n",
    "    print(\"El área de la figura es: \" + str(area) + \" cm^2\") "
   ]
  },
  {
   "attachments": {},
   "cell_type": "markdown",
   "metadata": {},
   "source": [
    "PUNTO # 2.3"
   ]
  },
  {
   "cell_type": "code",
   "execution_count": 13,
   "metadata": {},
   "outputs": [
    {
     "name": "stdout",
     "output_type": "stream",
     "text": [
      "El número total de personas contagiadas después de5 días es: 192\n"
     ]
    }
   ],
   "source": [
    "# Definimos la función calcular_contagios con argumentos no definidos\n",
    "def calcular_contagios(*args):\n",
    "    contagios_actuales = args[0]\n",
    "    dias_transcurridos = args[1]\n",
    "    return contagios_actuales * (2 ** dias_transcurridos)\n",
    "\n",
    "if __name__ == '__main__':\n",
    "    # Se piden los valores al usuario\n",
    "    c_a = int(input(\"Ingrese el número de contagiados actuales: \"))\n",
    "    d_t = int(input(\"Ingrese el número de días a partir de hoy: \"))\n",
    "    # Se llama a la funcion y toma los argumentos anteriormente dados por el usuario\n",
    "    t_c = calcular_contagios(c_a, d_t)\n",
    "    # Mostramos o imprimimos los resultados\n",
    "    print(\"El número total de personas contagiadas después de\" + str(d_t) +\" días es: \" + str(t_c))\n"
   ]
  },
  {
   "attachments": {},
   "cell_type": "markdown",
   "metadata": {},
   "source": [
    "PUNTO # 3"
   ]
  },
  {
   "cell_type": "code",
   "execution_count": 3,
   "metadata": {},
   "outputs": [
    {
     "name": "stdout",
     "output_type": "stream",
     "text": [
      "5 elevado a 2 es 25\n"
     ]
    }
   ],
   "source": [
    "# Definir la funcion PotenciaRecursivo y que tome como argumentos n y p siendo enteros\n",
    "def PotenciaRecursivo(n : int,p : int)-> int:\n",
    "  if p == 0: #si p es igual a 0 retorna 1\n",
    "    return 1\n",
    "  else: # si no\n",
    "    # Condicion de la funcion recursiva\n",
    "    return n*PotenciaRecursivo(n,p-1) \n",
    "\n",
    "\n",
    "if __name__ == \"__main__\":\n",
    "    # Se le pide al usuario los valores \n",
    "    n = int(input(\"Ingrese numero: \"))\n",
    "    p = int(input(\"potencia: \"))\n",
    "    # Se llama la funcion y que tome como argumentos n y p dados por e usuario previamente\n",
    "    Potencia_del_numero = PotenciaRecursivo(n,p) \n",
    "    # imprime o muestra el resultado\n",
    "    print(str(n) + \" elevado a la \" + str(p) + \" es \"+ str( Potencia_del_numero)) "
   ]
  },
  {
   "attachments": {},
   "cell_type": "markdown",
   "metadata": {},
   "source": [
    "PUNTO # 4"
   ]
  },
  {
   "cell_type": "code",
   "execution_count": 16,
   "metadata": {},
   "outputs": [
    {
     "name": "stdout",
     "output_type": "stream",
     "text": [
      "El tiempo de ejecución de Fibonacci con recursión fue de: 0.4670755863189697 segundos.\n",
      "El tiempo de ejecución de Fibonacci con iteración fue de: 0.0 segundos.\n",
      "Fibonacci con iteración es más rápido que con recursión.\n"
     ]
    }
   ],
   "source": [
    "import time\n",
    "\n",
    "# Se define la funcion de recursion, la cual toma como argumento n \n",
    "def fibonacci_recursion(n):\n",
    "    if n <= 1: # si n es menor o igual a 1 \n",
    "        return n # Devolver n\n",
    "    else: # si no \n",
    "        return fibonacci_recursion(n-1) + fibonacci_recursion(n-2) # se suman los dos numeros anteriores\n",
    "\n",
    "# Se define la funcion de iteracion, la cual toma como argumento n \n",
    "def fibonacci_iteracion(n):\n",
    "    if n <= 1: # si n es menor o igual a 1 \n",
    "        return n # Devolver n\n",
    "    else: # si no \n",
    "        a, b = 0, 1 # se inicializa dos varaibles como a = 0 y b = 1\n",
    "        for i in range(n-1): # Para cada elemento (i) iterar n-1 veces \n",
    "            a, b = b, a + b # se suma el valor de a y b para crear un nuevo valor de b y a toma el valor anterior de b\n",
    "        return b # Deolver b ya que sera el el valor del número de Fibonacci actual ya que a es el numero de fibonacci anterior\n",
    "\n",
    "n = int(input(\"Ingrese el valor de n: \"))\n",
    "\n",
    "# Medicion del tiempo de Fibonacci con recursión\n",
    "start_time_recursion = time.time()\n",
    "fib_recursion = fibonacci_recursion(n)\n",
    "end_time_recursion = time.time()\n",
    "timer_recursion = end_time_recursion - start_time_recursion\n",
    "print(\"El tiempo de ejecución de Fibonacci con recursión para n= \" + str(n) + \" fue de: \" + str(timer_recursion) + \" segundos.\")\n",
    "\n",
    "# Medicion del tiempo de Fibonacci con iteración\n",
    "start_time_iteracion = time.time()\n",
    "fib_iteracion = fibonacci_iteracion(n)\n",
    "end_time_iteracion = time.time()\n",
    "timer_iteracion = end_time_iteracion - start_time_iteracion\n",
    "print(\"El tiempo de ejecución de Fibonacci con iteración para n= \" + str(n) + \" fue de: \" + str(timer_iteracion) + \" segundos.\")\n",
    "\n",
    "# Se compara los tiempos para imprimir una respuesta final\n",
    "if timer_recursion > timer_iteracion:\n",
    "    print(\"Fibonacci con iteración es más rápido que con recursión.\")\n",
    "else:\n",
    "    print(\"Fibonacci con recursión es más rápido que con iteración.\")\n"
   ]
  }
 ],
 "metadata": {
  "kernelspec": {
   "display_name": "Python 3",
   "language": "python",
   "name": "python3"
  },
  "language_info": {
   "codemirror_mode": {
    "name": "ipython",
    "version": 3
   },
   "file_extension": ".py",
   "mimetype": "text/x-python",
   "name": "python",
   "nbconvert_exporter": "python",
   "pygments_lexer": "ipython3",
   "version": "3.10.11"
  },
  "orig_nbformat": 4
 },
 "nbformat": 4,
 "nbformat_minor": 2
}
